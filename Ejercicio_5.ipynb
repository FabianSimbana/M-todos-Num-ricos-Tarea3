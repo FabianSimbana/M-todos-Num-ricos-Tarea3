{
  "nbformat": 4,
  "nbformat_minor": 0,
  "metadata": {
    "colab": {
      "provenance": [],
      "authorship_tag": "ABX9TyOWaJ3x1U6mnWS171ZmZeiZ",
      "include_colab_link": true
    },
    "kernelspec": {
      "name": "python3",
      "display_name": "Python 3"
    },
    "language_info": {
      "name": "python"
    }
  },
  "cells": [
    {
      "cell_type": "markdown",
      "metadata": {
        "id": "view-in-github",
        "colab_type": "text"
      },
      "source": [
        "<a href=\"https://colab.research.google.com/github/elliot12-l/Ejercicios_Unidad_01-B/blob/main/Ejericio_5.ipynb\" target=\"_parent\"><img src=\"https://colab.research.google.com/assets/colab-badge.svg\" alt=\"Open In Colab\"/></a>"
      ]
    },
    {
      "cell_type": "markdown",
      "source": [
        "### Calcular suma  $\\sum_{i=1}^{n}$ $\\sum_{j=1}^{i} a_i b_j$"
      ],
      "metadata": {
        "id": "5BTG2jw10lHI"
      }
    },
    {
      "cell_type": "code",
      "execution_count": 1,
      "metadata": {
        "id": "8bBV8UjJrm8s"
      },
      "outputs": [],
      "source": [
        "def calcular_suma(a, b):\n",
        "    suma_total = 0\n",
        "    num_multiplicaciones = 0\n",
        "    num_sumas = 0\n",
        "\n",
        "    for i in range(len(a)):\n",
        "        for j in range(i+1):\n",
        "            suma_total += a[i] * b[j]\n",
        "            num_multiplicaciones += 1\n",
        "            num_sumas += 1\n",
        "\n",
        "    return suma_total, num_multiplicaciones, num_sumas"
      ]
    },
    {
      "cell_type": "markdown",
      "source": [
        "### Calcular suma $\\sum_{i=1}^{n}$ $\\sum_{j=1}^{i} a_i b_j$ $=\\sum_{i=1}^{n}a_i$ $\\sum_{j=1}^{i}b_j$"
      ],
      "metadata": {
        "id": "4gvGy8ns1jlz"
      }
    },
    {
      "cell_type": "code",
      "source": [
        "def calcular_suma_optimizada(a, b):\n",
        "    suma_total = 0\n",
        "    num_multiplicaciones = 0\n",
        "    num_sumas = 0\n",
        "\n",
        "    for i in range(len(a)):\n",
        "        suma_temporal = sum(b[:i+1])  # Sumamos solo los elementos de b hasta el índice i\n",
        "        suma_total += a[i] * suma_temporal\n",
        "        num_multiplicaciones += 1\n",
        "        num_sumas += len(b[:i+1])  # Contamos el número de sumas realizadas para la suma de b\n",
        "\n",
        "    return suma_total, num_multiplicaciones, num_sumas"
      ],
      "metadata": {
        "id": "kJuPtw_Wt7US"
      },
      "execution_count": 33,
      "outputs": []
    },
    {
      "cell_type": "markdown",
      "source": [
        "### Ejecucion del Codigo"
      ],
      "metadata": {
        "id": "PSwlA_X_16Xe"
      }
    },
    {
      "cell_type": "code",
      "source": [
        "# Ejemplo calcular_suma\n",
        "a = [1, 2, 3, 4]\n",
        "b = [5, 6, 7, 8]\n",
        "suma, multiplicaciones, sumas = calcular_suma(a, b)\n",
        "print(\"La suma total es:\", suma)\n",
        "print(\"Número de multiplicaciones:\", multiplicaciones)\n",
        "print(\"Número de sumas:\", sumas)\n"
      ],
      "metadata": {
        "colab": {
          "base_uri": "https://localhost:8080/"
        },
        "id": "dCs5EepEsHG-",
        "outputId": "b3ce7ee5-aa85-460b-c336-81389b486ecb"
      },
      "execution_count": 30,
      "outputs": [
        {
          "output_type": "stream",
          "name": "stdout",
          "text": [
            "La suma total es: 185\n",
            "Número de multiplicaciones: 10\n",
            "Número de sumas: 10\n"
          ]
        }
      ]
    },
    {
      "cell_type": "code",
      "source": [
        "# Ejemplo calcular_suma optimizada\n",
        "a = [1, 2, 3, 4]\n",
        "b = [5, 6, 7, 8]\n",
        "suma, multiplicaciones, sumas = calcular_suma_optimizada(a, b)\n",
        "print(\"La suma total es:\", suma)\n",
        "print(\"Número de multiplicaciones:\", multiplicaciones)\n",
        "print(\"Número de sumas:\", sumas)"
      ],
      "metadata": {
        "colab": {
          "base_uri": "https://localhost:8080/"
        },
        "id": "qNj71t6nw3ki",
        "outputId": "37e04613-02d1-4f97-bb8f-8a0c3147a111"
      },
      "execution_count": 34,
      "outputs": [
        {
          "output_type": "stream",
          "name": "stdout",
          "text": [
            "La suma total es: 185\n",
            "Número de multiplicaciones: 4\n",
            "Número de sumas: 10\n"
          ]
        }
      ]
    }
  ]
}
