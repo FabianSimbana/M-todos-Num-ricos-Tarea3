{
  "nbformat": 4,
  "nbformat_minor": 0,
  "metadata": {
    "colab": {
      "provenance": [],
      "authorship_tag": "ABX9TyMa4cesix4d1z1sLm+P/vMW",
      "include_colab_link": true
    },
    "kernelspec": {
      "name": "python3",
      "display_name": "Python 3"
    },
    "language_info": {
      "name": "python"
    }
  },
  "cells": [
    {
      "cell_type": "markdown",
      "metadata": {
        "id": "view-in-github",
        "colab_type": "text"
      },
      "source": [
        "<a href=\"https://colab.research.google.com/github/elliot12-l/Ejercicios_Unidad_01-B/blob/main/Ejercicio_6.ipynb\" target=\"_parent\"><img src=\"https://colab.research.google.com/assets/colab-badge.svg\" alt=\"Open In Colab\"/></a>"
      ]
    },
    {
      "cell_type": "markdown",
      "source": [
        "## Código en Python para sumar la serie finita en orden inverso"
      ],
      "metadata": {
        "id": "k4LAOd5PS-OB"
      }
    },
    {
      "cell_type": "code",
      "source": [
        "def sumarSerieInversa(n: int, x: float) -> float:\n",
        "    suma = 0\n",
        "    for i in range(n, 0, -1):\n",
        "        suma += x ** i\n",
        "    return suma"
      ],
      "metadata": {
        "id": "-VB6BAKYTCd9"
      },
      "execution_count": null,
      "outputs": []
    },
    {
      "cell_type": "markdown",
      "source": [
        "# Ejemplo de uso de sumarSerieInversa"
      ],
      "metadata": {
        "id": "YtXu3-VfTDau"
      }
    },
    {
      "cell_type": "code",
      "source": [
        "n = 5\n",
        "x = 2\n",
        "resultado = sumarSerieInversa(n, x)\n",
        "print(\"La suma de la serie en orden inverso es:\", resultado)"
      ],
      "metadata": {
        "id": "3IU-iCLsTE0o"
      },
      "execution_count": null,
      "outputs": []
    },
    {
      "cell_type": "markdown",
      "source": [
        "### Explicación del Pseudocódigo y Código\n",
        "1. **Entrada**: Se reciben dos parámetros, `n` (entero) que representa el número de términos en la serie, y `x` (real) que es la base de los exponentes.\n",
        "2. **Inicialización**: Se inicializa la variable `suma` en 0.\n",
        "3. **Bucle**: Se recorre un bucle desde `n` hasta 1 (incluyendo 1) en decrementos de 1.\n",
        "    - En cada iteración, se calcula \\(x^i\\) y se agrega a `suma`.\n",
        "4. **Salida**: Una vez completado el bucle, se retorna el valor de `suma`."
      ],
      "metadata": {
        "id": "Q60QaNFxTFtY"
      }
    },
    {
      "cell_type": "markdown",
      "source": [
        "### Ejemplo de Uso en Python\n",
        "El código en Python implementa el pseudocódigo, calculando la suma de \\(x^i\\) en orden inverso, desde `n` hasta 1. En el ejemplo, se calcula la suma para \\(n = 5\\) y \\(x = 2\\):\n",
        "\n",
        "- Para \\(n = 5\\) y \\(x = 2\\), la serie es \\(2^5 + 2^4 + 2^3 + 2^2 + 2^1\\).\n",
        "- La función `sumarSerieInversa` computará esta suma y retornará el resultado.\n"
      ],
      "metadata": {
        "id": "RgE27mbLTJhm"
      }
    }
  ]
}