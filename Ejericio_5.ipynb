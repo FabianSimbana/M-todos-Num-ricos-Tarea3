{
  "nbformat": 4,
  "nbformat_minor": 0,
  "metadata": {
    "colab": {
      "provenance": [],
      "authorship_tag": "ABX9TyNoaDWstOkm09VuDbOyEmYU",
      "include_colab_link": true
    },
    "kernelspec": {
      "name": "python3",
      "display_name": "Python 3"
    },
    "language_info": {
      "name": "python"
    }
  },
  "cells": [
    {
      "cell_type": "markdown",
      "metadata": {
        "id": "view-in-github",
        "colab_type": "text"
      },
      "source": [
        "<a href=\"https://colab.research.google.com/github/elliot12-l/Ejercicios_Unidad_01-B/blob/main/Ejericio_5.ipynb\" target=\"_parent\"><img src=\"https://colab.research.google.com/assets/colab-badge.svg\" alt=\"Open In Colab\"/></a>"
      ]
    },
    {
      "cell_type": "code",
      "execution_count": 1,
      "metadata": {
        "id": "8bBV8UjJrm8s"
      },
      "outputs": [],
      "source": [
        "def calcular_suma(a, b):\n",
        "    suma_total = 0\n",
        "    num_multiplicaciones = 0\n",
        "    num_sumas = 0\n",
        "\n",
        "    for i in range(len(a)):\n",
        "        for j in range(i+1):\n",
        "            suma_total += a[i] * b[j]\n",
        "            num_multiplicaciones += 1\n",
        "            num_sumas += 1\n",
        "\n",
        "    return suma_total, num_multiplicaciones, num_sumas"
      ]
    },
    {
      "cell_type": "code",
      "source": [
        "def calcular_suma_optimizada1(a, b):\n",
        "    suma_total = 0\n",
        "    num_multiplicaciones = 0\n",
        "    num_sumas = 0\n",
        "\n",
        "    for i in range(len(a)):\n",
        "        suma_temporal = sum(b[:i+1])  # Sumamos solo los elementos de b hasta el índice i\n",
        "        suma_total += a[i] * suma_temporal\n",
        "        num_multiplicaciones += 1\n",
        "        num_sumas += len(b[:i+1])  # Contamos el número de sumas realizadas para la suma de b\n",
        "\n",
        "    return suma_total, num_multiplicaciones, num_sumas"
      ],
      "metadata": {
        "id": "kJuPtw_Wt7US"
      },
      "execution_count": 12,
      "outputs": []
    },
    {
      "cell_type": "code",
      "source": [
        "def calcular_suma_optimizada2(a, b):\n",
        "    suma_total = 0\n",
        "    num_multiplicaciones = 0\n",
        "    num_sumas = 0\n",
        "\n",
        "    suma_b = 0  # Variable para almacenar la suma acumulada de los elementos de b\n",
        "\n",
        "    for i in range(len(a)):\n",
        "        suma_b += b[i]  # Agregar el siguiente elemento de b a la suma acumulada\n",
        "        suma_total += a[i] * suma_b\n",
        "        num_multiplicaciones += 1\n",
        "        num_sumas += 1\n",
        "\n",
        "    return suma_total, num_multiplicaciones, num_sumas"
      ],
      "metadata": {
        "id": "qkpFpMIkvuI3"
      },
      "execution_count": 22,
      "outputs": []
    },
    {
      "cell_type": "code",
      "source": [
        "def calcular_suma_optimizada1(a, b):\n",
        "    suma_total = 0\n",
        "    num_multiplicaciones = 0\n",
        "    num_sumas = 0\n",
        "\n",
        "    suma_b = [0] * len(b)\n",
        "    suma_b[0] = b[0]\n",
        "    for i in range(1, len(b)):\n",
        "        suma_b[i] = suma_b[i-1] + b[i]\n",
        "\n",
        "    for i in range(len(a)):\n",
        "        suma_total += a[i] * suma_b[i]\n",
        "        num_multiplicaciones += 1\n",
        "        num_sumas += 1\n",
        "\n",
        "    return suma_total, num_multiplicaciones, num_sumas"
      ],
      "metadata": {
        "id": "0oLYWHMEx7l5"
      },
      "execution_count": 28,
      "outputs": []
    },
    {
      "cell_type": "code",
      "source": [
        "# Ejemplo de uso\n",
        "a = [1, 2, 3, 4]\n",
        "b = [5, 6, 7, 8]\n",
        "suma, multiplicaciones, sumas = calcular_suma(a, b)\n",
        "print(\"La suma total es:\", suma)\n",
        "print(\"Número de multiplicaciones:\", multiplicaciones)\n",
        "print(\"Número de sumas:\", sumas)\n"
      ],
      "metadata": {
        "colab": {
          "base_uri": "https://localhost:8080/"
        },
        "id": "dCs5EepEsHG-",
        "outputId": "22e6466f-f909-4d69-f094-083655bb4483"
      },
      "execution_count": 26,
      "outputs": [
        {
          "output_type": "stream",
          "name": "stdout",
          "text": [
            "La suma total es: 185\n",
            "Número de multiplicaciones: 10\n",
            "Número de sumas: 10\n"
          ]
        }
      ]
    },
    {
      "cell_type": "code",
      "source": [
        "# Ejemplo de uso\n",
        "a = [1, 2, 3, 4]\n",
        "b = [5, 6, 7, 8]\n",
        "suma, multiplicaciones, sumas = calcular_suma_optimizada1(a, b)\n",
        "print(\"La suma total es:\", suma)\n",
        "print(\"Número de multiplicaciones:\", multiplicaciones)\n",
        "print(\"Número de sumas:\", sumas)"
      ],
      "metadata": {
        "colab": {
          "base_uri": "https://localhost:8080/"
        },
        "id": "qNj71t6nw3ki",
        "outputId": "239350f0-ea81-4530-bb6f-270a310194bb"
      },
      "execution_count": 27,
      "outputs": [
        {
          "output_type": "stream",
          "name": "stdout",
          "text": [
            "La suma total es: 185\n",
            "Número de multiplicaciones: 4\n",
            "Número de sumas: 4\n"
          ]
        }
      ]
    }
  ]
}