{
  "metadata": {
    "kernelspec": {
      "name": "python",
      "display_name": "Python (Pyodide)",
      "language": "python"
    },
    "language_info": {
      "codemirror_mode": {
        "name": "python",
        "version": 3
      },
      "file_extension": ".py",
      "mimetype": "text/x-python",
      "name": "python",
      "nbconvert_exporter": "python",
      "pygments_lexer": "ipython3",
      "version": "3.8"
    }
  },
  "nbformat_minor": 4,
  "nbformat": 4,
  "cells": [
    {
      "cell_type": "markdown",
      "source": "## Comparación de los Tres Algoritmos",
      "metadata": {}
    },
    {
      "cell_type": "markdown",
      "source": "### Algoritmo 1",
      "metadata": {}
    },
    {
      "cell_type": "markdown",
      "source": "ENTRADA 𝑛, 𝑥1, 𝑥2, ⋯, 𝑥𝑛.\nSALIDA PRODUCT.\nPaso 1 Determine PRODUCT = 0.\nPaso 2 Para 𝑖 = 1, 2, ⋯, 𝑛 haga\nDetermine PRODUCT = PRODUCT∗𝑥𝑖.\nPaso 3 SALIDA PRODUCT;\nPARE.\n",
      "metadata": {}
    },
    {
      "cell_type": "code",
      "source": "def Algoritmo_1(valores):\n    producto = 0\n    for x in valores:\n        producto *= 1/(x**2)\n    return producto\n\nvalores_1a = [10, 9, 8, 7, 6, 5, 4, 3, 2, 1]\nprint(\"Resultado del algoritmo 1:\", Algoritmo_1(valores_1a))",
      "metadata": {
        "trusted": true
      },
      "outputs": [],
      "execution_count": null
    },
    {
      "cell_type": "markdown",
      "source": "### Algoritmo 2",
      "metadata": {}
    },
    {
      "cell_type": "markdown",
      "source": "ENTRADA 𝑛, 𝑥1, 𝑥2, ⋯, 𝑥𝑛.\nSALIDA PRODUCT.\nPaso 1 Determine PRODUCT = 1.\nPaso 2 Para 𝑖 = 1, 2, ⋯, 𝑛 haga\nSet PRODUCT = PRODUCT∗𝑥𝑖.\nPaso 3 SALIDA PRODUCT;\nPARE.\n",
      "metadata": {}
    },
    {
      "cell_type": "code",
      "source": "def Algoritmo_2(valores):\n    producto = 1\n    for x in valores:\n        producto *= (1/x**2)\n    return producto\n\nvalores_1a = [10, 9, 8, 7, 6, 5, 4, 3, 2, 1]\nprint(\"Resultado del algoritmo 2:\", Algoritmo_2(valores_1a))",
      "metadata": {
        "trusted": true
      },
      "outputs": [],
      "execution_count": null
    },
    {
      "cell_type": "markdown",
      "source": "### Algoritmo 3",
      "metadata": {}
    },
    {
      "cell_type": "code",
      "source": "ENTRADA 𝑛, 𝑥1, 𝑥2, ⋯, 𝑥𝑛.\nSALIDA PRODUCT.\nPaso 1 Determine PRODUCT = 1.\nPaso 2 Para 𝑖 = 1, 2, ⋯, 𝑛 haga\nsi 𝑥𝑖=0 entonces determine PRODUCT = 0;\nSALIDA PRODUCT;\nPARE\nDetermine PRODUCT = PRODUCT∗𝑥𝑖.\nPaso 3 SALIDA PRODUCT;\nPARE\n",
      "metadata": {
        "trusted": true
      },
      "outputs": [],
      "execution_count": null
    },
    {
      "cell_type": "code",
      "source": "def Algoritmo_3(valores):\n    producto = 1\n    for x in valores:\n        if x == 0:\n            producto = 0\n            return producto\n        producto *= (1/x**2)\n    return producto\n\nvalores_1a = [10, 9, 8, 7, 6, 5, 4, 3, 2, 1]\nprint(\"Resultado del algoritmo 3:\", Algoritmo_3(valores_1a))",
      "metadata": {
        "trusted": true
      },
      "outputs": [],
      "execution_count": null
    },
    {
      "cell_type": "markdown",
      "source": "## Ejecución de los Tres Algoritmos",
      "metadata": {}
    },
    {
      "cell_type": "markdown",
      "source": "### Algoritmo 1",
      "metadata": {}
    },
    {
      "cell_type": "code",
      "source": "def Algoritmo_1(valores):\n    producto = 0\n    for x in valores:\n        producto *= 1/(x**2)\n    return producto\n\nvalores_1a = [10, 9, 8, 7, 6, 5, 4, 3, 2, 1]\nprint(\"Resultado del algoritmo 1:\", Algoritmo_1(valores_1a))\n",
      "metadata": {
        "trusted": true
      },
      "outputs": [
        {
          "name": "stdout",
          "text": "Resultado del algoritmo 1: 0.0\n",
          "output_type": "stream"
        }
      ],
      "execution_count": 39
    },
    {
      "cell_type": "markdown",
      "source": "### Algoritmo 2",
      "metadata": {}
    },
    {
      "cell_type": "code",
      "source": "def Algoritmo_2(valores):\n    producto = 1\n    for x in valores:\n        producto *= (1/x**2)\n    return producto\n\nvalores_1a = [10, 9, 8, 7, 6, 5, 4, 3, 2, 1]\nprint(\"Resultado del algoritmo 2:\", Algoritmo_2(valores_1a))\n",
      "metadata": {
        "trusted": true
      },
      "outputs": [
        {
          "name": "stdout",
          "text": "Resultado del algoritmo 2: 7.594058428126622e-14\n",
          "output_type": "stream"
        }
      ],
      "execution_count": 40
    },
    {
      "cell_type": "markdown",
      "source": "### Algoritmo 3",
      "metadata": {}
    },
    {
      "cell_type": "code",
      "source": "def Algoritmo_3(valores):\n    producto = 1\n    for x in valores:\n        if x == 0:\n            producto = 0\n            return producto\n        producto *= (1/x**2)\n    return producto\n\nvalores_1a = [10, 9, 8, 7, 6, 5, 4, 3, 2, 1]\nprint(\"Resultado del algoritmo 3:\", Algoritmo_3(valores_1a))\n",
      "metadata": {
        "trusted": true
      },
      "outputs": [
        {
          "name": "stdout",
          "text": "Resultado del algoritmo 3: 7.594058428126622e-14\n",
          "output_type": "stream"
        }
      ],
      "execution_count": 41
    }
  ]
}
