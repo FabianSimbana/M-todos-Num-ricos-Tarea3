{
  "nbformat": 4,
  "nbformat_minor": 0,
  "metadata": {
    "colab": {
      "provenance": [],
      "authorship_tag": "ABX9TyNrDXI3FSTtgN1daw74b9h0",
      "include_colab_link": true
    },
    "kernelspec": {
      "name": "python3",
      "display_name": "Python 3"
    },
    "language_info": {
      "name": "python"
    }
  },
  "cells": [
    {
      "cell_type": "markdown",
      "metadata": {
        "id": "view-in-github",
        "colab_type": "text"
      },
      "source": [
        "<a href=\"https://colab.research.google.com/github/elliot12-l/Ejercicios_Unidad_01-B/blob/main/Ejercicio_2.ipynb\" target=\"_parent\"><img src=\"https://colab.research.google.com/assets/colab-badge.svg\" alt=\"Open In Colab\"/></a>"
      ]
    },
    {
      "cell_type": "markdown",
      "source": [
        "#Código"
      ],
      "metadata": {
        "id": "iP-IAJdpZsKa"
      }
    },
    {
      "cell_type": "code",
      "source": [
        "import math\n",
        "def arctanAprox(n):\n",
        "    sum = 0\n",
        "    for i in range(1,n+1):\n",
        "        num = (-1)**(i+1)\n",
        "        den = 2*i-1\n",
        "        sum += num/den\n",
        "    error = abs(4*sum-math.pi)\n",
        "    return error"
      ],
      "metadata": {
        "id": "M3y2Wol2ZuCf"
      },
      "execution_count": 9,
      "outputs": []
    },
    {
      "cell_type": "markdown",
      "source": [
        "##Ejecuciones a realizar literal a"
      ],
      "metadata": {
        "id": "WjNNw0xsZu97"
      }
    },
    {
      "cell_type": "code",
      "source": [
        "e1 = arctanAprox(5)\n",
        "print(\"El error absoluto es: \"+format(e1, \".1E\"))\n",
        "e2 = arctanAprox(10)\n",
        "print(\"El error absoluto es: \"+format(e2, \".1E\"))\n",
        "e3 = arctanAprox(50)\n",
        "print(\"El error absoluto es: \"+format(e3, \".1E\"))\n",
        "e4 = arctanAprox(100)\n",
        "print(\"El error absoluto es: \"+format(e4, \".1E\"))\n",
        "e5 = arctanAprox(1000)\n",
        "print(\"El error absoluto es: \"+format(e5, \".1E\"))"
      ],
      "metadata": {
        "colab": {
          "base_uri": "https://localhost:8080/"
        },
        "id": "BYvxrNvSZvHQ",
        "outputId": "f3d45416-5f7b-4df4-ccea-d5c0d700a009"
      },
      "execution_count": 10,
      "outputs": [
        {
          "output_type": "stream",
          "name": "stdout",
          "text": [
            "El error absoluto es: 2.0E-01\n",
            "El error absoluto es: 1.0E-01\n",
            "El error absoluto es: 2.0E-02\n",
            "El error absoluto es: 1.0E-02\n",
            "El error absoluto es: 1.0E-03\n"
          ]
        }
      ]
    },
    {
      "cell_type": "markdown",
      "source": [
        "## Ejecución del literal b\n"
      ],
      "metadata": {
        "id": "IJX2tSbpZzDq"
      }
    },
    {
      "cell_type": "code",
      "source": [
        "e6 = arctanAprox(10000000000)\n",
        "print(\"El error absoluto es: \"+format(e6, \".1E\"))"
      ],
      "metadata": {
        "id": "c2qKjarPZ5Tf"
      },
      "execution_count": null,
      "outputs": []
    }
  ]
}