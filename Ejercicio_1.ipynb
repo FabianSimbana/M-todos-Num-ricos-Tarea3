{
  "nbformat": 4,
  "nbformat_minor": 0,
  "metadata": {
    "colab": {
      "provenance": [],
      "authorship_tag": "ABX9TyP7Fg802fbNgJ4qulCyJxIE",
      "include_colab_link": true
    },
    "kernelspec": {
      "name": "python3",
      "display_name": "Python 3"
    },
    "language_info": {
      "name": "python"
    }
  },
  "cells": [
    {
      "cell_type": "markdown",
      "metadata": {
        "id": "view-in-github",
        "colab_type": "text"
      },
      "source": [
        "<a href=\"https://colab.research.google.com/github/elliot12-l/Ejercicios_Unidad_01-B/blob/main/Ejercicio_1.ipynb\" target=\"_parent\"><img src=\"https://colab.research.google.com/assets/colab-badge.svg\" alt=\"Open In Colab\"/></a>"
      ]
    },
    {
      "cell_type": "markdown",
      "source": [
        "## Suma uno"
      ],
      "metadata": {
        "id": "ngd0vhAEadUJ"
      }
    },
    {
      "cell_type": "code",
      "source": [
        "def sumaUno (limiteSup: int):\n",
        "    suma = 0\n",
        "    for i in range(limiteSup):\n",
        "        suma = round(suma + round(1/round((i+1)**2,3),3),3)\n",
        "    return suma\n",
        "print(sumaUno(5))\n",
        "\n",
        "\n",
        "def sumaUno (limiteSup: int):\n",
        "    suma = 0\n",
        "    for i in range(limiteSup):\n",
        "        suma = round(suma + round(1/round((i+1)**3,3),3),3)\n",
        "    return suma\n",
        "print(sumaUno(5))"
      ],
      "metadata": {
        "colab": {
          "base_uri": "https://localhost:8080/"
        },
        "id": "-YcQVF3yaf7I",
        "outputId": "8469133a-34c9-4024-881f-7f4a0d1edb2b"
      },
      "execution_count": 12,
      "outputs": [
        {
          "output_type": "stream",
          "name": "stdout",
          "text": [
            "1.463\n",
            "1.186\n"
          ]
        }
      ]
    },
    {
      "cell_type": "markdown",
      "source": [
        "## Suma dos"
      ],
      "metadata": {
        "id": "Hor38GtgahfM"
      }
    },
    {
      "cell_type": "code",
      "source": [
        "def sumaDos (limiteSup: int):\n",
        "    suma = 0\n",
        "    for i in reversed(range(limiteSup)):\n",
        "        suma = round(suma + round(1/round((i+1)**2,3),3),3)\n",
        "    return suma\n",
        "print(sumaDos(5))\n",
        "\n",
        "\n",
        "def sumaDos (limiteSup: int):\n",
        "    suma = 0\n",
        "    for i in reversed(range(limiteSup)):\n",
        "        suma = round(suma + round(1/round((i+1)**3,3),3),3)\n",
        "    return suma\n",
        "print(sumaDos(5))"
      ],
      "metadata": {
        "colab": {
          "base_uri": "https://localhost:8080/"
        },
        "id": "sSOgnyroaj9c",
        "outputId": "3fec1a7a-f851-424e-98f8-a1c941476ab3"
      },
      "execution_count": 13,
      "outputs": [
        {
          "output_type": "stream",
          "name": "stdout",
          "text": [
            "1.463\n",
            "1.186\n"
          ]
        }
      ]
    }
  ]
}