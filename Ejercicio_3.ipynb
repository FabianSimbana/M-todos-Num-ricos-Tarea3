{
  "nbformat": 4,
  "nbformat_minor": 0,
  "metadata": {
    "colab": {
      "provenance": [],
      "authorship_tag": "ABX9TyNCBb0v0KfPtShAZa1GGW0L",
      "include_colab_link": true
    },
    "kernelspec": {
      "name": "python3",
      "display_name": "Python 3"
    },
    "language_info": {
      "name": "python"
    }
  },
  "cells": [
    {
      "cell_type": "markdown",
      "metadata": {
        "id": "view-in-github",
        "colab_type": "text"
      },
      "source": [
        "<a href=\"https://colab.research.google.com/github/elliot12-l/Ejercicios_Unidad_01-B/blob/main/Ejercicio_3.ipynb\" target=\"_parent\"><img src=\"https://colab.research.google.com/assets/colab-badge.svg\" alt=\"Open In Colab\"/></a>"
      ]
    },
    {
      "cell_type": "markdown",
      "source": [
        "### Función para calcular arctan(x) usando la serie de Taylor"
      ],
      "metadata": {
        "id": "XawUiBwXZLHO"
      }
    },
    {
      "cell_type": "code",
      "source": [
        "import math\n",
        "def arctan(x, terms):\n",
        "    arctan_sum = 0\n",
        "    for n in range(terms):\n",
        "        term = ((-1) ** n) * (x ** (2 * n + 1)) / (2 * n + 1)\n",
        "        arctan_sum += term\n",
        "    return arctan_sum"
      ],
      "metadata": {
        "id": "5Tdwo3k2ZMNO"
      },
      "execution_count": 4,
      "outputs": []
    },
    {
      "cell_type": "markdown",
      "source": [
        "### Función para calcular pi usando la identidad dada y una cantidad de términos"
      ],
      "metadata": {
        "id": "dMRjxRiXZOZw"
      }
    },
    {
      "cell_type": "code",
      "source": [
        "def calculate_pi(terms):\n",
        "    arctan_1_5 = arctan(1/5, terms)\n",
        "    arctan_1_239 = arctan(1/239, terms)\n",
        "    pi_approx = 4 * (4 * arctan_1_5 - arctan_1_239)\n",
        "    return pi_approx"
      ],
      "metadata": {
        "id": "lI-1BQihZPaJ"
      },
      "execution_count": 5,
      "outputs": []
    },
    {
      "cell_type": "markdown",
      "source": [
        "###Función para encontrar el número de términos necesarios para la precisión deseada"
      ],
      "metadata": {
        "id": "C_t-ETYrZQZi"
      }
    },
    {
      "cell_type": "code",
      "source": [
        "def find_required_terms(precision=1e-3):\n",
        "    true_pi = math.pi\n",
        "    terms = 1\n",
        "    while True:\n",
        "        pi_approx = calculate_pi(terms)\n",
        "        if abs(pi_approx - true_pi) < precision:\n",
        "            break\n",
        "        terms += 1\n",
        "    return terms"
      ],
      "metadata": {
        "id": "XTxU9W5wZRav"
      },
      "execution_count": 6,
      "outputs": []
    },
    {
      "cell_type": "markdown",
      "source": [
        "### Ejecución del código para encontrar el número de términos"
      ],
      "metadata": {
        "id": "hEQJlUsIZSWM"
      }
    },
    {
      "cell_type": "code",
      "source": [
        "required_terms = find_required_terms()\n",
        "print(f\"Se necesitan al menos {required_terms} términos para aproximar π dentro de {10**-3}.\")"
      ],
      "metadata": {
        "colab": {
          "base_uri": "https://localhost:8080/"
        },
        "id": "yaAXmsXFZToc",
        "outputId": "71881469-4d1f-4c84-e7b9-e72bfeb201a1"
      },
      "execution_count": 7,
      "outputs": [
        {
          "output_type": "stream",
          "name": "stdout",
          "text": [
            "Se necesitan al menos 2 términos para aproximar π dentro de 0.001.\n"
          ]
        }
      ]
    },
    {
      "cell_type": "markdown",
      "source": [
        "### Calcular π usando el número requerido de términos"
      ],
      "metadata": {
        "id": "VPLoeFlSZVLI"
      }
    },
    {
      "cell_type": "code",
      "source": [
        "pi_approx = calculate_pi(required_terms)\n",
        "print(f\"π aproximado con {required_terms} términos: {pi_approx}\")\n",
        "print(f\"Diferencia con el valor real de π: {abs(math.pi - pi_approx)}\")"
      ],
      "metadata": {
        "colab": {
          "base_uri": "https://localhost:8080/"
        },
        "id": "kXHhK9y-ZFMp",
        "outputId": "3e62a083-61d6-4d39-b7cf-9c67f067e278"
      },
      "execution_count": 8,
      "outputs": [
        {
          "output_type": "stream",
          "name": "stdout",
          "text": [
            "π aproximado con 2 términos: 3.1405970293260603\n",
            "Diferencia con el valor real de π: 0.0009956242637327861\n"
          ]
        }
      ]
    }
  ]
}